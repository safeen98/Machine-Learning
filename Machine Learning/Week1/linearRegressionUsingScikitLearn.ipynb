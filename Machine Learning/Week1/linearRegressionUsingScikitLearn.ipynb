{
 "cells": [
  {
   "cell_type": "markdown",
   "id": "93deedea",
   "metadata": {},
   "source": [
    "Tools¶\n",
    "You will utilize functions from scikit-learn as well as matplotlib and NumPy."
   ]
  },
  {
   "cell_type": "markdown",
   "id": "31dc6372",
   "metadata": {},
   "source": [
    "Importing essential libraries"
   ]
  },
  {
   "cell_type": "code",
   "execution_count": 13,
   "id": "73c5302f",
   "metadata": {},
   "outputs": [],
   "source": [
    "import numpy as np\n",
    "import matplotlib.pyplot as plt\n",
    "from sklearn.linear_model import SGDRegressor\n",
    "from sklearn.preprocessing import StandardScaler"
   ]
  },
  {
   "cell_type": "markdown",
   "id": "d615a702",
   "metadata": {},
   "source": [
    "providing the training data"
   ]
  },
  {
   "cell_type": "code",
   "execution_count": 23,
   "id": "86715502",
   "metadata": {},
   "outputs": [],
   "source": [
    "x_train = np.array([\n",
    " [1.24e+03, 3.00e+00, 1.00e+00, 6.40e+01,],\n",
    " [1.95e+03, 3.00e+00, 2.00e+00, 1.70e+01,],\n",
    " [1.72e+03, 3.00e+00, 2.00e+00, 4.20e+01,],\n",
    " [1.96e+03, 3.00e+00, 2.00e+00, 1.50e+01,],\n",
    " [1.31e+03, 2.00e+00, 1.00e+00, 1.40e+01,],\n",
    " [8.64e+02, 2.00e+00, 1.00e+00, 6.60e+01,],\n",
    " [1.84e+03, 3.00e+00, 1.00e+00, 1.70e+01,],\n",
    " [1.03e+03, 3.00e+00, 1.00e+00, 4.30e+01,],\n",
    " [3.19e+03, 4.00e+00, 2.00e+00, 8.70e+01,],\n",
    " [7.88e+02, 2.00e+00, 1.00e+00, 8.00e+01,],\n",
    " [1.20e+03, 2.00e+00, 2.00e+00, 1.70e+01,],\n",
    " [1.56e+03, 2.00e+00, 1.00e+00, 1.80e+01,],\n",
    " [1.43e+03, 3.00e+00, 1.00e+00, 2.00e+01,],\n",
    " [1.22e+03, 2.00e+00, 1.00e+00, 1.50e+01,],\n",
    " [1.09e+03, 2.00e+00, 1.00e+00, 6.40e+01,],\n",
    " [8.48e+02, 1.00e+00, 1.00e+00, 1.70e+01,],\n",
    " [1.68e+03, 3.00e+00, 2.00e+00, 2.30e+01,],\n",
    " [1.77e+03, 3.00e+00, 2.00e+00, 1.80e+01,],\n",
    " [1.04e+03, 3.00e+00, 1.00e+00, 4.40e+01,],\n",
    " [1.65e+03, 2.00e+00, 1.00e+00, 2.10e+01,],\n",
    " [1.09e+03, 2.00e+00, 1.00e+00, 3.50e+01,],\n",
    " [1.32e+03, 3.00e+00, 1.00e+00, 1.40e+01,],\n",
    " [1.59e+03, 0.00e+00, 1.00e+00, 2.00e+01,],\n",
    " [9.72e+02, 2.00e+00, 1.00e+00, 7.30e+01,],\n",
    " [1.10e+03, 3.00e+00, 1.00e+00, 3.70e+01,],\n",
    " [1.00e+03, 2.00e+00, 1.00e+00, 5.10e+01,],\n",
    " [9.04e+02, 3.00e+00, 1.00e+00, 5.50e+01,],\n",
    " [1.69e+03, 3.00e+00, 1.00e+00, 1.30e+01,],\n",
    " [1.07e+03, 2.00e+00, 1.00e+00, 1.00e+02,],\n",
    " [1.42e+03, 3.00e+00, 2.00e+00, 1.90e+01,],\n",
    " [1.21e+03, 3.00e+00, 1.00e+00, 2.00e+01,],\n",
    " [1.05e+03, 2.00e+00, 1.00e+00, 6.50e+01,],\n",
    "])\n",
    "y_train = np.array([300, 509.8, 394, 540, 415, 230, 560, 294, 718.2, 200,\n",
    " 302, 468, 374.2, 388, 282, 311.8, 401, 449.8, 301, 502,\n",
    " 340, 400.28, 572, 264, 304, 298, 219.8, 490.7, 216.96, 368.2,\n",
    " 280, 526.87])\n"
   ]
  },
  {
   "cell_type": "markdown",
   "id": "1578c292",
   "metadata": {},
   "source": [
    "Normalizing the data"
   ]
  },
  {
   "cell_type": "code",
   "execution_count": 24,
   "id": "781b8013",
   "metadata": {},
   "outputs": [
    {
     "name": "stdout",
     "output_type": "stream",
     "text": [
      "[[-0.2751289   0.70894901 -0.57735027  1.05803297]\n",
      " [ 1.24356124  0.70894901  1.73205081 -0.82737175]\n",
      " [ 0.75159119  0.70894901  1.73205081  0.1755031 ]\n",
      " [ 1.26495124  0.70894901  1.73205081 -0.90760174]\n",
      " [-0.12539889 -0.62554324 -0.57735027 -0.94771673]\n",
      " [-1.07939297 -0.62554324 -0.57735027  1.13826295]\n",
      " [ 1.00827122  0.70894901 -0.57735027 -0.82737175]\n",
      " [-0.72431894  0.70894901 -0.57735027  0.21561809]\n",
      " [ 3.89592148  2.04344126  1.73205081  1.98067783]\n",
      " [-1.24195699 -0.62554324 -0.57735027  1.69987287]\n",
      " [-0.36068891 -0.62554324  1.73205081 -0.82737175]\n",
      " [ 0.40935116 -0.62554324 -0.57735027 -0.78725676]\n",
      " [ 0.13128114  0.70894901 -0.57735027 -0.70702677]\n",
      " [-0.3179089  -0.62554324 -0.57735027 -0.90760174]\n",
      " [-0.59597893 -0.62554324 -0.57735027  1.05803297]\n",
      " [-1.11361698 -1.96003549 -0.57735027 -0.82737175]\n",
      " [ 0.66603119  0.70894901  1.73205081 -0.58668179]\n",
      " [ 0.8585412   0.70894901  1.73205081 -0.78725676]\n",
      " [-0.70292894  0.70894901 -0.57735027  0.25573309]\n",
      " [ 0.60186118 -0.62554324 -0.57735027 -0.66691178]\n",
      " [-0.59597893 -0.62554324 -0.57735027 -0.10530186]\n",
      " [-0.10400888  0.70894901 -0.57735027 -0.94771673]\n",
      " [ 0.47352117 -3.29452774 -0.57735027 -0.70702677]\n",
      " [-0.84838095 -0.62554324 -0.57735027  1.41906791]\n",
      " [-0.57458893  0.70894901 -0.57735027 -0.02507187]\n",
      " [-0.78848895 -0.62554324 -0.57735027  0.53653804]\n",
      " [-0.99383297  0.70894901 -0.57735027  0.69699802]\n",
      " [ 0.68742119  0.70894901 -0.57735027 -0.98783173]\n",
      " [-0.63875893 -0.62554324 -0.57735027  2.50217275]\n",
      " [ 0.10989114  0.70894901  1.73205081 -0.74714176]\n",
      " [-0.33929891  0.70894901 -0.57735027 -0.70702677]\n",
      " [-0.68153894 -0.62554324 -0.57735027  1.09814796]]\n"
     ]
    }
   ],
   "source": [
    "scaler = StandardScaler()\n",
    "x_norm = scaler.fit_transform(x_train)\n",
    "print (x_norm)"
   ]
  },
  {
   "cell_type": "code",
   "execution_count": 39,
   "id": "e8b646c9",
   "metadata": {},
   "outputs": [
    {
     "name": "stdout",
     "output_type": "stream",
     "text": [
      "(32, 4)\n",
      "(32,)\n",
      "SGDRegressor()\n",
      "number of iterations completed: 299, number of weight updates: 9569.0\n"
     ]
    }
   ],
   "source": [
    "sgdr = SGDRegressor(max_iter=1000)\n",
    "print(x_train.shape)\n",
    "print(y_train.shape)\n",
    "sgdr.fit(x_norm,y_train)\n",
    "print(sgdr)\n",
    "print(f\"number of iterations completed: {sgdr.n_iter_}, number of weight updates: {sgdr.t_}\")"
   ]
  },
  {
   "cell_type": "markdown",
   "id": "801a50bf",
   "metadata": {},
   "source": [
    "To view the parameter we have "
   ]
  },
  {
   "cell_type": "code",
   "execution_count": 41,
   "id": "9e325fcf",
   "metadata": {},
   "outputs": [
    {
     "name": "stdout",
     "output_type": "stream",
     "text": [
      "model parameters:                   w: [128.52142484 -29.79837777 -24.81623831 -23.29065227], b:[381.9176841]\n"
     ]
    }
   ],
   "source": [
    "b_norm = sgdr.intercept_\n",
    "w_norm = sgdr.coef_\n",
    "print(f\"model parameters:                   w: {w_norm}, b:{b_norm}\")"
   ]
  },
  {
   "cell_type": "markdown",
   "id": "0a501fdc",
   "metadata": {},
   "source": [
    "Make predictions¶\n",
    "Predict the targets of the training data. Use both the predict routine and compute using  𝑤\n",
    "  and  𝑏\n",
    " ."
   ]
  },
  {
   "cell_type": "code",
   "execution_count": 43,
   "id": "c72083a1",
   "metadata": {},
   "outputs": [
    {
     "name": "stdout",
     "output_type": "stream",
     "text": [
      "prediction using np.dot() and sgdr.predict match: True\n",
      "Prediction on training set:\n",
      "[315.11757941 496.90345831 410.3171577  501.52114059]\n",
      "Target values \n",
      "[300.  509.8 394.  540. ]\n"
     ]
    }
   ],
   "source": [
    "# make a prediction using sgdr.predict()\n",
    "y_pred_sgd = sgdr.predict(x_norm)\n",
    "# make a prediction using w,b. \n",
    "y_pred = np.dot(x_norm, w_norm) + b_norm  \n",
    "print(f\"prediction using np.dot() and sgdr.predict match: {(y_pred == y_pred_sgd).all()}\")\n",
    "\n",
    "print(f\"Prediction on training set:\\n{y_pred[:4]}\" )\n",
    "print(f\"Target values \\n{y_train[:4]}\")"
   ]
  }
 ],
 "metadata": {
  "kernelspec": {
   "display_name": ".venv",
   "language": "python",
   "name": "python3"
  },
  "language_info": {
   "codemirror_mode": {
    "name": "ipython",
    "version": 3
   },
   "file_extension": ".py",
   "mimetype": "text/x-python",
   "name": "python",
   "nbconvert_exporter": "python",
   "pygments_lexer": "ipython3",
   "version": "3.9.6"
  }
 },
 "nbformat": 4,
 "nbformat_minor": 5
}
