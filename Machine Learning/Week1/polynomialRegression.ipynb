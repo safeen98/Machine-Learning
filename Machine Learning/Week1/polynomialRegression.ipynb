{
 "cells": [
  {
   "cell_type": "markdown",
   "id": "a10629a3",
   "metadata": {},
   "source": [
    "Feature Engineering and Polynomial Regression Overview\n",
    "Out of the box, linear regression provides a means of building models of the form:\n",
    "𝑓𝐰,𝑏=𝑤0𝑥0+𝑤1𝑥1+...+𝑤𝑛−1𝑥𝑛−1+𝑏(1)\n",
    "What if your features/data are non-linear or are combinations of features? For example, Housing prices do not tend to be linear with living area but penalize very small or very large houses resulting in the curves shown in the graphic above. How can we use the machinery of linear regression to fit this curve? Recall, the 'machinery' we have is the ability to modify the parameters  𝐰\n",
    " ,  𝐛\n",
    "  in (1) to 'fit' the equation to the training data. However, no amount of adjusting of  𝐰\n",
    " , 𝐛\n",
    "  in (1) will achieve a fit to a non-linear curve.\n",
    "\n",
    "\n",
    "Polynomial Features\n",
    "Above we were considering a scenario where the data was non-linear. Let's try using what we know so far to fit a non-linear curve. We'll start with a simple quadratic: 𝑦=1+𝑥2\n",
    "\n",
    "You're familiar with all the routines we're using. They are available in the lab_utils.py file for review. We'll use np.c_[..] which is a NumPy routine to concatenate along the column boundary."
   ]
  },
  {
   "cell_type": "code",
   "execution_count": 2,
   "id": "9ea97537",
   "metadata": {},
   "outputs": [],
   "source": [
    "import numpy as np\n",
    "import matplotlib.pyplot as plt\n"
   ]
  },
  {
   "cell_type": "markdown",
   "id": "3390fe83",
   "metadata": {},
   "source": [
    "Polynomial Features\n",
    "Above we were considering a scenario where the data was non-linear. Let's try using what we know so far to fit a non-linear curve. We'll start with a simple quadratic:  y=1+x^2\n",
    " \n",
    "\n",
    "You're familiar with all the routines we're using. They are available in the lab_utils.py file for review. We'll use np.c_[..] which is a NumPy routine to concatenate along the column boundary."
   ]
  },
  {
   "cell_type": "code",
   "execution_count": 3,
   "id": "0ba0cb3f",
   "metadata": {},
   "outputs": [
    {
     "name": "stdout",
     "output_type": "stream",
     "text": [
      "[ 0  1  2  3  4  5  6  7  8  9 10 11 12 13 14 15 16 17 18 19]\n",
      "[  1   2   5  10  17  26  37  50  65  82 101 122 145 170 197 226 257 290\n",
      " 325 362]\n",
      "[[ 0]\n",
      " [ 1]\n",
      " [ 2]\n",
      " [ 3]\n",
      " [ 4]\n",
      " [ 5]\n",
      " [ 6]\n",
      " [ 7]\n",
      " [ 8]\n",
      " [ 9]\n",
      " [10]\n",
      " [11]\n",
      " [12]\n",
      " [13]\n",
      " [14]\n",
      " [15]\n",
      " [16]\n",
      " [17]\n",
      " [18]\n",
      " [19]]\n"
     ]
    }
   ],
   "source": [
    "x = np.arange(0,20,1)\n",
    "y = 1 + x**2\n",
    "X = x.reshape(-1,1)\n",
    "print(x)\n",
    "print(y)\n",
    "print(X)"
   ]
  },
  {
   "cell_type": "code",
   "execution_count": 4,
   "id": "8e7c2bad",
   "metadata": {},
   "outputs": [],
   "source": [
    "# now we if what to add polynomial structure to our data"
   ]
  },
  {
   "cell_type": "code",
   "execution_count": null,
   "id": "d9f00c10",
   "metadata": {},
   "outputs": [
    {
     "name": "stdout",
     "output_type": "stream",
     "text": [
      "[[   0    0    0]\n",
      " [   1    1    1]\n",
      " [   2    4    8]\n",
      " [   3    9   27]\n",
      " [   4   16   64]\n",
      " [   5   25  125]\n",
      " [   6   36  216]\n",
      " [   7   49  343]\n",
      " [   8   64  512]\n",
      " [   9   81  729]\n",
      " [  10  100 1000]\n",
      " [  11  121 1331]\n",
      " [  12  144 1728]\n",
      " [  13  169 2197]\n",
      " [  14  196 2744]\n",
      " [  15  225 3375]\n",
      " [  16  256 4096]\n",
      " [  17  289 4913]\n",
      " [  18  324 5832]\n",
      " [  19  361 6859]]\n",
      "(20, 3)\n"
     ]
    }
   ],
   "source": [
    "X = np.c_[x,x**2,x**3]\n",
    "print(X)\n",
    "print(X.shape)\n",
    "# So if we see the shape of our np array we get (20,3) i.e 20 trainig set with 3 feature ,"
   ]
  },
  {
   "cell_type": "code",
   "execution_count": 8,
   "id": "2e5880e7",
   "metadata": {},
   "outputs": [
    {
     "data": {
      "image/png": "[encoded data removed]",
      "text/plain": [
       "<Figure size 1200x300 with 3 Axes>"
      ]
     },
     "metadata": {},
     "output_type": "display_data"
    }
   ],
   "source": [
    "fig,ax=plt.subplots(1, 3, figsize=(12, 3), sharey=True)\n",
    "for i in range(len(ax)):\n",
    "    ax[i].scatter(X[:,i],y)\n",
    "ax[0].set_ylabel(\"y\")\n",
    "plt.show()"
   ]
  }
 ],
 "metadata": {
  "kernelspec": {
   "display_name": ".venv",
   "language": "python",
   "name": "python3"
  },
  "language_info": {
   "codemirror_mode": {
    "name": "ipython",
    "version": 3
   },
   "file_extension": ".py",
   "mimetype": "text/x-python",
   "name": "python",
   "nbconvert_exporter": "python",
   "pygments_lexer": "ipython3",
   "version": "3.9.6"
  }
 },
 "nbformat": 4,
 "nbformat_minor": 5
}
