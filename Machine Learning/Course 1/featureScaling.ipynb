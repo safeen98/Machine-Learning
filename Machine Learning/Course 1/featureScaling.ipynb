{
 "cells": [
  {
   "cell_type": "code",
   "execution_count": null,
   "id": "c288ddca",
   "metadata": {},
   "outputs": [],
   "source": [
    "import numpy as np\n",
    "import matplotlib.pyplot as plt"
   ]
  },
  {
   "cell_type": "markdown",
   "id": "ec24f95a",
   "metadata": {},
   "source": [
    "The lectures discussed three different techniques:\n",
    "\n",
    "Feature scaling, essentially dividing each positive feature by its maximum value, or more generally, rescale each feature by both its minimum and maximum values using (x-min)/(max-min). Both ways normalizes features to the range of -1 and 1, where the former method works for positive features which is simple and serves well for the lecture's example, and the latter method works for any features.\n",
    "Mean normalization:  𝑥𝑖:=𝑥𝑖−𝜇𝑖𝑚𝑎𝑥−𝑚𝑖𝑛\n",
    " \n",
    "Z-score normalization which we will explore below."
   ]
  },
  {
   "cell_type": "markdown",
   "id": "84d56f28",
   "metadata": {},
   "source": [
    "z-score normalization\n",
    "After z-score normalization, all features will have a mean of 0 and a standard deviation of 1.\n",
    "\n",
    "To implement z-score normalization, adjust your input values as shown in this formula:\n",
    "𝑥(𝑖)𝑗=𝑥(𝑖)𝑗−𝜇𝑗𝜎𝑗(4)\n",
    "where  𝑗\n",
    "  selects a feature or a column in the  𝐗\n",
    "  matrix.  µ𝑗\n",
    "  is the mean of all the values for feature (j) and  𝜎𝑗\n",
    "  is the standard deviation of feature (j).\n",
    "𝜇𝑗𝜎2𝑗=1𝑚∑𝑖=0𝑚−1𝑥(𝑖)𝑗=1𝑚∑𝑖=0𝑚−1(𝑥(𝑖)𝑗−𝜇𝑗)2(5)(6)\n",
    "\n",
    "Implementation Note: When normalizing the features, it is important to store the values used for normalization - the mean value and the standard deviation used for the computations. After learning the parameters from the model, we often want to predict the prices of houses we have not seen before. Given a new x value (living room area and number of bed- rooms), we must first normalize x using the mean and standard deviation that we had previously computed from the training set."
   ]
  },
  {
   "cell_type": "code",
   "execution_count": null,
   "id": "14f68aaa",
   "metadata": {},
   "outputs": [],
   "source": [
    "def z_score_normalization(X):\n",
    "    u =np.mean(X)\n",
    "    standardDeviation = np.std(X)\n",
    "    x_norm = (X-u)/standardDeviation\n",
    "    return x_norm"
   ]
  }
 ],
 "metadata": {
  "kernelspec": {
   "display_name": ".venv",
   "language": "python",
   "name": "python3"
  },
  "language_info": {
   "codemirror_mode": {
    "name": "ipython",
    "version": 3
   },
   "file_extension": ".py",
   "mimetype": "text/x-python",
   "name": "python",
   "nbconvert_exporter": "python",
   "pygments_lexer": "ipython3",
   "version": "3.9.6"
  }
 },
 "nbformat": 4,
 "nbformat_minor": 5
}
