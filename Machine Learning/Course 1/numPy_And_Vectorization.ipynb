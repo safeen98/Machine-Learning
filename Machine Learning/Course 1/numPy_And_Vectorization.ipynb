{
 "cells": [
  {
   "cell_type": "markdown",
   "id": "ff5ea966",
   "metadata": {},
   "source": [
    "NumPy Arrays\n",
    "NumPy's basic data structure is an indexable, n-dimensional array containing elements of the same type (dtype). Right away, you may notice we have overloaded the term 'dimension'. Above, it was the number of elements in the vector, here, dimension refers to the number of indexes of an array. A one-dimensional or 1-D array has one index. In Course 1, we will represent vectors as NumPy 1-D arrays.\n",
    "\n",
    "1-D array, shape (n,): n elements indexed [0] through [n-1]\n",
    "\n"
   ]
  },
  {
   "cell_type": "markdown",
   "id": "ad4e0100",
   "metadata": {},
   "source": [
    "Vector Creation\n",
    "Data creation routines in NumPy will generally have a first parameter which is the shape of the object. This can either be a single value for a 1-D result or a tuple (n,m,...) specifying the shape of the result. Below are examples of creating vectors using these routines."
   ]
  },
  {
   "cell_type": "code",
   "execution_count": 2,
   "id": "7e08c001",
   "metadata": {},
   "outputs": [
    {
     "name": "stdout",
     "output_type": "stream",
     "text": [
      "[0. 0. 0. 0.] , (4,)\n",
      "[0. 0. 0. 0.] , (4,)\n",
      "[0 1 2 3] , (4,)\n",
      "[0.60198895 0.46376834 0.74242341 0.59581136] , (4,)\n"
     ]
    }
   ],
   "source": [
    "import numpy as np\n",
    "import time\n",
    "# NumPy routines which allocate memory and fill arrays with value\n",
    "a = np.zeros(4)\n",
    "print(f\"{a} , {a.shape}\")\n",
    "a = np.zeros(4,)\n",
    "print(f\"{a} , {a.shape}\")\n",
    "a= np.arange(4)\n",
    "print(f\"{a} , {a.shape}\")\n",
    "a = np.random.rand(4)\n",
    "print(f\"{a} , {a.shape}\")"
   ]
  },
  {
   "cell_type": "markdown",
   "id": "d72bc3de",
   "metadata": {},
   "source": [
    "Creating a vector using numpy"
   ]
  },
  {
   "cell_type": "code",
   "execution_count": 3,
   "id": "83cdc427",
   "metadata": {},
   "outputs": [],
   "source": [
    "arr = np.array([1,3,45,5])\n",
    "arr2 = np.array([5,6,7,8,9])"
   ]
  },
  {
   "cell_type": "markdown",
   "id": "00f88f08",
   "metadata": {},
   "source": [
    "Now any operation performed on this array will be using vectorization "
   ]
  },
  {
   "cell_type": "markdown",
   "id": "b18d6398",
   "metadata": {},
   "source": [
    "The Need for Speed: vector vs for loop\n",
    "We utilized the NumPy library because it improves speed memory efficiency. Let's demonstrate:"
   ]
  },
  {
   "cell_type": "code",
   "execution_count": 4,
   "id": "b3a693e6",
   "metadata": {},
   "outputs": [],
   "source": [
    "def my_dot(a, b): \n",
    "    \"\"\"\n",
    "   Compute the dot product of two vectors\n",
    " \n",
    "    Args:\n",
    "      a (ndarray (n,)):  input vector \n",
    "      b (ndarray (n,)):  input vector with same dimension as a\n",
    "    \n",
    "    Returns:\n",
    "      x (scalar): \n",
    "    \"\"\"\n",
    "    x=0\n",
    "    for i in range(a.shape[0]):\n",
    "        x = x + a[i] * b[i]\n",
    "    return x"
   ]
  },
  {
   "cell_type": "code",
   "execution_count": 5,
   "id": "bf79d256",
   "metadata": {},
   "outputs": [
    {
     "name": "stdout",
     "output_type": "stream",
     "text": [
      "np.dot(a, b) =  2501072.5817\n",
      "Vectorized version duration: 6.2211 ms \n",
      "my_dot(a, b) =  2501072.5817\n",
      "loop version duration: 948.6630 ms \n"
     ]
    }
   ],
   "source": [
    "np.random.seed(1)\n",
    "a = np.random.rand(10000000)  # very large arrays\n",
    "b = np.random.rand(10000000)\n",
    "\n",
    "tic = time.time()  # capture start time\n",
    "c = np.dot(a, b)\n",
    "toc = time.time()  # capture end time\n",
    "\n",
    "print(f\"np.dot(a, b) =  {c:.4f}\")\n",
    "print(f\"Vectorized version duration: {1000*(toc-tic):.4f} ms \")\n",
    "\n",
    "tic = time.time()  # capture start time\n",
    "c = my_dot(a,b)\n",
    "toc = time.time()  # capture end time\n",
    "\n",
    "print(f\"my_dot(a, b) =  {c:.4f}\")\n",
    "print(f\"loop version duration: {1000*(toc-tic):.4f} ms \")\n",
    "\n",
    "del(a);del(b)  #remove these big arrays from memory"
   ]
  }
 ],
 "metadata": {
  "kernelspec": {
   "display_name": ".venv",
   "language": "python",
   "name": "python3"
  },
  "language_info": {
   "codemirror_mode": {
    "name": "ipython",
    "version": 3
   },
   "file_extension": ".py",
   "mimetype": "text/x-python",
   "name": "python",
   "nbconvert_exporter": "python",
   "pygments_lexer": "ipython3",
   "version": "3.9.6"
  }
 },
 "nbformat": 4,
 "nbformat_minor": 5
}
